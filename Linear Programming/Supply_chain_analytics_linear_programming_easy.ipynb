{
 "cells": [
  {
   "cell_type": "code",
   "execution_count": 1,
   "metadata": {},
   "outputs": [],
   "source": [
    "from pulp import *\n",
    "import pandas as pd"
   ]
  },
  {
   "cell_type": "code",
   "execution_count": 51,
   "metadata": {
    "scrolled": true
   },
   "outputs": [
    {
     "name": "stdout",
     "output_type": "stream",
     "text": [
      "Bakery:\n",
      "MAXIMIZE\n",
      "3*x1 + 7*x2 + 5*x3 + 0\n",
      "SUBJECT TO\n",
      "_C1: x1 + x2 + x3 <= 50\n",
      "\n",
      "_C2: 2 x1 + 3 x2 + x3 <= 100\n",
      "\n",
      "VARIABLES\n",
      "x1 Continuous\n",
      "x2 Continuous\n",
      "x3 Continuous\n",
      "\n",
      "reduced cost x1:0.0\n",
      "reduced cost x2:25.0\n",
      "reduced cost x3:25.0\n",
      "optimized objective function: 300.0\n",
      "_C1 : x1 + x2 + x3 <= 50 \t  shadow price 4.0 \t\t  slack variables -0.0\n",
      "_C2 : 2*x1 + 3*x2 + x3 <= 100 \t  shadow price 1.0 \t\t  slack variables -0.0\n"
     ]
    }
   ],
   "source": [
    "def bakery(sugar,chocolate):\n",
    "    prob = LpProblem('Bakery', LpMaximize)#model\n",
    "    x1 = LpVariable('x1', lowBound=0)#non negativity constraints\n",
    "    x2 = LpVariable('x2', lowBound=0)#non negativity constraints\n",
    "    x3 = LpVariable('x3', lowBound=0)#non negativity constraints\n",
    "\n",
    "    prob += 3*x1 + 7*x2 + 5*x3 #objective function\n",
    "    prob += x1 + x2 + x3 <= sugar #sugar constraint\n",
    "    prob += 2*x1 + 3*x2 + x3 <= chocolate #chocolate constraint\n",
    "\n",
    "    print(prob)\n",
    "    prob.solve()# linear programming solution\n",
    "\n",
    "    print(f\"reduced cost x1:{value(x1)}\")\n",
    "    print(f\"reduced cost x2:{value(x2)}\")\n",
    "    print(f\"reduced cost x3:{value(x3)}\")\n",
    "    print(f\"optimized objective function: {value(prob.objective)}\")\n",
    "    \n",
    "    for name, c in prob.constraints.items():\n",
    "       print( name, \":\", c, \"\\t\", f' shadow price {c.pi}', \"\\t\\t\", f' slack variables {c.slack}')\n",
    "  \n",
    "bakery(sugar = 50,chocolate = 100)   "
   ]
  },
  {
   "cell_type": "markdown",
   "metadata": {},
   "source": [
    "To maximize profit and obtain the optimal solution, Of item 1 , zero should be produced, while of item 2 and 3  25 should be produced, hence more resources should be focused on item 2 and 3 and the focus shouldnt be on non negative and zero co-efficients"
   ]
  },
  {
   "cell_type": "code",
   "execution_count": 52,
   "metadata": {
    "scrolled": true
   },
   "outputs": [
    {
     "name": "stdout",
     "output_type": "stream",
     "text": [
      "Bakery:\n",
      "MAXIMIZE\n",
      "3*x1 + 7*x2 + 5*x3 + 0\n",
      "SUBJECT TO\n",
      "_C1: x1 + x2 + x3 <= 51\n",
      "\n",
      "_C2: 2 x1 + 3 x2 + x3 <= 100\n",
      "\n",
      "VARIABLES\n",
      "x1 Continuous\n",
      "x2 Continuous\n",
      "x3 Continuous\n",
      "\n",
      "reduced cost x1:0.0\n",
      "reduced cost x2:24.5\n",
      "reduced cost x3:26.5\n",
      "optimized objective function: 304.0\n",
      "_C1 : x1 + x2 + x3 <= 51 \t  shadow price 4.0 \t\t  slack variables -0.0\n",
      "_C2 : 2*x1 + 3*x2 + x3 <= 100 \t  shadow price 1.0 \t\t  slack variables -0.0\n"
     ]
    }
   ],
   "source": [
    "bakery(sugar = 51,chocolate = 100)   "
   ]
  },
  {
   "cell_type": "code",
   "execution_count": 53,
   "metadata": {
    "scrolled": true
   },
   "outputs": [
    {
     "name": "stdout",
     "output_type": "stream",
     "text": [
      "Bakery:\n",
      "MAXIMIZE\n",
      "3*x1 + 7*x2 + 5*x3 + 0\n",
      "SUBJECT TO\n",
      "_C1: x1 + x2 + x3 <= 50\n",
      "\n",
      "_C2: 2 x1 + 3 x2 + x3 <= 101\n",
      "\n",
      "VARIABLES\n",
      "x1 Continuous\n",
      "x2 Continuous\n",
      "x3 Continuous\n",
      "\n",
      "reduced cost x1:0.0\n",
      "reduced cost x2:25.5\n",
      "reduced cost x3:24.5\n",
      "optimized objective function: 301.0\n",
      "_C1 : x1 + x2 + x3 <= 50 \t  shadow price 4.0 \t\t  slack variables -0.0\n",
      "_C2 : 2*x1 + 3*x2 + x3 <= 101 \t  shadow price 1.0 \t\t  slack variables -0.0\n"
     ]
    }
   ],
   "source": [
    "bakery(sugar = 50,chocolate = 101)   "
   ]
  },
  {
   "cell_type": "markdown",
   "metadata": {},
   "source": [
    "An additional unit of sugar yielded a higher maximized profit at 304 vs an additional unit of chocolate at 301, so sugar will be the preferred choice and the values corresponds to the shadow price output "
   ]
  },
  {
   "cell_type": "code",
   "execution_count": 54,
   "metadata": {
    "scrolled": true
   },
   "outputs": [
    {
     "name": "stdout",
     "output_type": "stream",
     "text": [
      "Advertising:\n",
      "MINIMIZE\n",
      "50*m1 + 100*m2 + 0\n",
      "SUBJECT TO\n",
      "_C1: 7 m1 + 2 m2 >= 28\n",
      "\n",
      "_C2: 2 m1 + 12 m2 >= 24\n",
      "\n",
      "VARIABLES\n",
      "m1 Continuous\n",
      "m2 Continuous\n",
      "\n",
      "reduced cost x1:3.6\n",
      "reduced cost x2:1.4\n",
      "optimized objective function: 320.0\n",
      "_C1 : 7*m1 + 2*m2 >= 28 \t  shadow price 5.0 \t\t  slack variables -0.0\n",
      "_C2 : 2*m1 + 12*m2 >= 24 \t  shadow price 7.5 \t\t  slack variables -0.0\n"
     ]
    }
   ],
   "source": [
    "def advertising(women, men):\n",
    "\n",
    "\n",
    "    prob2 = LpProblem('Advertising', LpMinimize) #model\n",
    "    m1 = LpVariable('m1', lowBound=0)#non negativity constraints\n",
    "    m2 = LpVariable('m2', lowBound=0)#non negativity constraints\n",
    "\n",
    "\n",
    "    prob2 += 50*m1 + 100*m2 #objective function\n",
    "    prob2 += 7*m1 + 2*m2  >= women #women constraint\n",
    "    prob2 += 2*m1 + 12*m2 >= men #men constraint\n",
    "\n",
    "    print(prob2)\n",
    "    prob2.solve()\n",
    "\n",
    "    print(f\"reduced cost x1:{value(m1)}\")\n",
    "    print(f\"reduced cost x2:{value(m2)}\")\n",
    "    print(f\"optimized objective function: {value(prob2.objective)}\")\n",
    "    for name, c in prob2.constraints.items():\n",
    "       print( name, \":\", c, \"\\t\", f' shadow price {c.pi}', \"\\t\\t\", f' slack variables {c.slack}')\n",
    "advertising(women = 28, men = 24)"
   ]
  },
  {
   "cell_type": "code",
   "execution_count": 49,
   "metadata": {},
   "outputs": [
    {
     "name": "stdout",
     "output_type": "stream",
     "text": [
      "Advertising:\n",
      "MINIMIZE\n",
      "50*m1 + 100*m2 + 0\n",
      "SUBJECT TO\n",
      "_C1: 7 m1 + 2 m2 >= 27\n",
      "\n",
      "_C2: 2 m1 + 12 m2 >= 24\n",
      "\n",
      "VARIABLES\n",
      "m1 Continuous\n",
      "m2 Continuous\n",
      "\n",
      "reduced cost x1:3.45\n",
      "reduced cost x2:1.425\n",
      "optimized objective function: 315.0\n",
      "_C1 : 7*m1 + 2*m2 >= 27 \t  shadow price 5.0 \t\t  slack variables -0.0\n",
      "_C2 : 2*m1 + 12*m2 >= 24 \t  shadow price 7.5 \t\t  slack variables -0.0\n"
     ]
    }
   ],
   "source": [
    "advertising(women = 27, men = 24)"
   ]
  },
  {
   "cell_type": "code",
   "execution_count": 50,
   "metadata": {
    "scrolled": false
   },
   "outputs": [
    {
     "name": "stdout",
     "output_type": "stream",
     "text": [
      "Advertising:\n",
      "MINIMIZE\n",
      "50*m1 + 100*m2 + 0\n",
      "SUBJECT TO\n",
      "_C1: 7 m1 + 2 m2 >= 28\n",
      "\n",
      "_C2: 2 m1 + 12 m2 >= 23\n",
      "\n",
      "VARIABLES\n",
      "m1 Continuous\n",
      "m2 Continuous\n",
      "\n",
      "reduced cost x1:3.625\n",
      "reduced cost x2:1.3125\n",
      "optimized objective function: 312.5\n",
      "_C1 : 7*m1 + 2*m2 >= 28 \t  shadow price 5.0 \t\t  slack variables -0.0\n",
      "_C2 : 2*m1 + 12*m2 >= 23 \t  shadow price 7.5 \t\t  slack variables -0.0\n"
     ]
    }
   ],
   "source": [
    "advertising(women = 28, men = 23)"
   ]
  },
  {
   "cell_type": "markdown",
   "metadata": {},
   "source": [
    "1 million less men yielded a minimized cost at 312.5 vs an 1 million less women at 315 which corresponds to the shadow price output and to save money 1 million less men will yield a minimized cost"
   ]
  }
 ],
 "metadata": {
  "kernelspec": {
   "display_name": "Python 3",
   "language": "python",
   "name": "python3"
  },
  "language_info": {
   "codemirror_mode": {
    "name": "ipython",
    "version": 3
   },
   "file_extension": ".py",
   "mimetype": "text/x-python",
   "name": "python",
   "nbconvert_exporter": "python",
   "pygments_lexer": "ipython3",
   "version": "3.8.5"
  }
 },
 "nbformat": 4,
 "nbformat_minor": 4
}
